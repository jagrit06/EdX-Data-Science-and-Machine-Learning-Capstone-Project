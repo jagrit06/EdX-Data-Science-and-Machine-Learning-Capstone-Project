{
 "cells": [
  {
   "cell_type": "code",
   "execution_count": 1,
   "metadata": {},
   "outputs": [
    {
     "name": "stderr",
     "output_type": "stream",
     "text": [
      "/opt/conda/envs/Python36/lib/python3.6/site-packages/IPython/core/interactiveshell.py:3020: DtypeWarning: Columns (19,20,22,23,24,25,26,64,65,80) have mixed types. Specify dtype option on import or set low_memory=False.\n",
      "  interactivity=interactivity, compiler=compiler, result=result)\n",
      "/opt/conda/envs/Python36/lib/python3.6/site-packages/IPython/core/interactiveshell.py:3020: DtypeWarning: Columns (19,20,22,23,64,65,80) have mixed types. Specify dtype option on import or set low_memory=False.\n",
      "  interactivity=interactivity, compiler=compiler, result=result)\n",
      "/opt/conda/envs/Python36/lib/python3.6/site-packages/IPython/core/interactiveshell.py:3020: DtypeWarning: Columns (20,23,24,26,64) have mixed types. Specify dtype option on import or set low_memory=False.\n",
      "  interactivity=interactivity, compiler=compiler, result=result)\n",
      "/opt/conda/envs/Python36/lib/python3.6/site-packages/IPython/core/interactiveshell.py:3020: DtypeWarning: Columns (19,20,22,23,64,65,77) have mixed types. Specify dtype option on import or set low_memory=False.\n",
      "  interactivity=interactivity, compiler=compiler, result=result)\n",
      "/opt/conda/envs/Python36/lib/python3.6/site-packages/IPython/core/interactiveshell.py:3020: DtypeWarning: Columns (19,20,22,23,24,64,65,80) have mixed types. Specify dtype option on import or set low_memory=False.\n",
      "  interactivity=interactivity, compiler=compiler, result=result)\n"
     ]
    }
   ],
   "source": [
    "import types\n",
    "import pandas as pd\n",
    "from botocore.client import Config\n",
    "import ibm_boto3\n",
    "\n",
    "def __iter__(self): return 0\n",
    "\n",
    "#@hidden_cell\n",
    "# The following code accesses a file in your IBM Cloud Object Storage. It includes your credentials.\n",
    "# You might want to remove those credentials before you share the notebook.\n",
    "client_abc2f642b8b24a62b596c6fe7372f591 = ibm_boto3.client(service_name='****',\n",
    "    ibm_api_key_id='****',\n",
    "    ibm_auth_endpoint=\"https://iam.ng.bluemix.net/oidc/token\",\n",
    "    config=Config(signature_version='oauth'),\n",
    "    endpoint_url='https://s3-api.us-geo.objectstorage.service.networklayer.com')\n",
    "\n",
    "###311 Dataset\n",
    "body = client_abc2f642b8b24a62b596c6fe7372f591.get_object(Bucket='****',Key='fhrw-4uyv (2).csv')['Body']\n",
    "# add missing __iter__ method, so pandas accepts body as file-like object\n",
    "if not hasattr(body, \"__iter__\"): body.__iter__ = types.MethodType( __iter__, body )\n",
    "\n",
    "# If you are reading an Excel file into a pandas DataFrame, replace `read_csv` by `read_excel` in the next statement.\n",
    "df_311 = pd.read_csv(body)\n",
    "\n",
    "###Brooklyn\n",
    "body1 = client_abc2f642b8b24a62b596c6fe7372f591.get_object(Bucket='****',Key='BK_18v1.csv')['Body']\n",
    "# add missing __iter__ method, so pandas accepts body as file-like object\n",
    "if not hasattr(body, \"__iter__\"): body.__iter__ = types.MethodType( __iter__, body )\n",
    "\n",
    "# If you are reading an Excel file into a pandas DataFrame, replace `read_csv` by `read_excel` in the next statement.\n",
    "df_BS = pd.read_csv(body1)\n",
    "\n",
    "###Bronx\n",
    "body2 = client_abc2f642b8b24a62b596c6fe7372f591.get_object(Bucket='****',Key='BX_18v1.csv')['Body']\n",
    "# add missing __iter__ method, so pandas accepts body as file-like object\n",
    "if not hasattr(body, \"__iter__\"): body.__iter__ = types.MethodType( __iter__, body )\n",
    "\n",
    "# If you are reading an Excel file into a pandas DataFrame, replace `read_csv` by `read_excel` in the next statement.\n",
    "df_BX = pd.read_csv(body2)\n",
    "\n",
    "###Manhattan\n",
    "body3 = client_abc2f642b8b24a62b596c6fe7372f591.get_object(Bucket='****',Key='MN_18v1.csv')['Body']\n",
    "# add missing __iter__ method, so pandas accepts body as file-like object\n",
    "if not hasattr(body, \"__iter__\"): body.__iter__ = types.MethodType( __iter__, body )\n",
    "\n",
    "# If you are reading an Excel file into a pandas DataFrame, replace `read_csv` by `read_excel` in the next statement.\n",
    "df_MN = pd.read_csv(body3)\n",
    "\n",
    "###Queens\n",
    "body4 = client_abc2f642b8b24a62b596c6fe7372f591.get_object(Bucket='****',Key='QN_18v1.csv')['Body']\n",
    "# add missing __iter__ method, so pandas accepts body as file-like object\n",
    "if not hasattr(body, \"__iter__\"): body.__iter__ = types.MethodType( __iter__, body )\n",
    "\n",
    "# If you are reading an Excel file into a pandas DataFrame, replace `read_csv` by `read_excel` in the next statement.\n",
    "df_QN = pd.read_csv(body4)\n",
    "\n",
    "###Staten Island\n",
    "body5 = client_abc2f642b8b24a62b596c6fe7372f591.get_object(Bucket='****',Key='SI_18v1.csv')['Body']\n",
    "# add missing __iter__ method, so pandas accepts body as file-like object\n",
    "if not hasattr(body, \"__iter__\"): body.__iter__ = types.MethodType( __iter__, body )\n",
    "\n",
    "# If you are reading an Excel file into a pandas DataFrame, replace `read_csv` by `read_excel` in the next statement.\n",
    "df_SI = pd.read_csv(body5)"
   ]
  },
  {
   "cell_type": "code",
   "execution_count": 2,
   "metadata": {},
   "outputs": [],
   "source": [
    "import matplotlib.pyplot as plt\n",
    "import numpy as np\n",
    "import seaborn as sns"
   ]
  },
  {
   "cell_type": "code",
   "execution_count": 3,
   "metadata": {},
   "outputs": [
    {
     "data": {
      "text/html": [
       "<div>\n",
       "<style scoped>\n",
       "    .dataframe tbody tr th:only-of-type {\n",
       "        vertical-align: middle;\n",
       "    }\n",
       "\n",
       "    .dataframe tbody tr th {\n",
       "        vertical-align: top;\n",
       "    }\n",
       "\n",
       "    .dataframe thead th {\n",
       "        text-align: right;\n",
       "    }\n",
       "</style>\n",
       "<table border=\"1\" class=\"dataframe\">\n",
       "  <thead>\n",
       "    <tr style=\"text-align: right;\">\n",
       "      <th></th>\n",
       "      <th>Address</th>\n",
       "      <th>BldgArea</th>\n",
       "      <th>BldgDepth</th>\n",
       "      <th>BuiltFAR</th>\n",
       "      <th>CommFAR</th>\n",
       "      <th>FacilFAR</th>\n",
       "      <th>Lot</th>\n",
       "      <th>LotArea</th>\n",
       "      <th>LotDepth</th>\n",
       "      <th>NumBldgs</th>\n",
       "      <th>NumFloors</th>\n",
       "      <th>OfficeArea</th>\n",
       "      <th>ResArea</th>\n",
       "      <th>ResidFAR</th>\n",
       "      <th>RetailArea</th>\n",
       "      <th>YearBuilt</th>\n",
       "      <th>YearAlter1</th>\n",
       "      <th>ZipCode</th>\n",
       "      <th>YCoord</th>\n",
       "      <th>XCoord</th>\n",
       "    </tr>\n",
       "  </thead>\n",
       "  <tbody>\n",
       "    <tr>\n",
       "      <th>0</th>\n",
       "      <td>JOHN STREET</td>\n",
       "      <td>0</td>\n",
       "      <td>0.0</td>\n",
       "      <td>0.00</td>\n",
       "      <td>2.0</td>\n",
       "      <td>0.0</td>\n",
       "      <td>1</td>\n",
       "      <td>151930</td>\n",
       "      <td>337.42</td>\n",
       "      <td>0</td>\n",
       "      <td>0.0</td>\n",
       "      <td>0</td>\n",
       "      <td>0</td>\n",
       "      <td>0.0</td>\n",
       "      <td>0</td>\n",
       "      <td>0</td>\n",
       "      <td>0</td>\n",
       "      <td>11201.0</td>\n",
       "      <td>NaN</td>\n",
       "      <td>NaN</td>\n",
       "    </tr>\n",
       "    <tr>\n",
       "      <th>1</th>\n",
       "      <td>10 JAY STREET</td>\n",
       "      <td>163894</td>\n",
       "      <td>195.0</td>\n",
       "      <td>8.33</td>\n",
       "      <td>2.0</td>\n",
       "      <td>6.5</td>\n",
       "      <td>50</td>\n",
       "      <td>19682</td>\n",
       "      <td>207.25</td>\n",
       "      <td>1</td>\n",
       "      <td>10.0</td>\n",
       "      <td>147505</td>\n",
       "      <td>0</td>\n",
       "      <td>5.4</td>\n",
       "      <td>16389</td>\n",
       "      <td>1920</td>\n",
       "      <td>1994</td>\n",
       "      <td>11201.0</td>\n",
       "      <td>195989.0</td>\n",
       "      <td>987838.0</td>\n",
       "    </tr>\n",
       "    <tr>\n",
       "      <th>2</th>\n",
       "      <td>1 JOHN STREET</td>\n",
       "      <td>102534</td>\n",
       "      <td>0.0</td>\n",
       "      <td>0.00</td>\n",
       "      <td>2.0</td>\n",
       "      <td>0.0</td>\n",
       "      <td>7501</td>\n",
       "      <td>0</td>\n",
       "      <td>0.00</td>\n",
       "      <td>1</td>\n",
       "      <td>12.0</td>\n",
       "      <td>0</td>\n",
       "      <td>97848</td>\n",
       "      <td>0.0</td>\n",
       "      <td>4686</td>\n",
       "      <td>0</td>\n",
       "      <td>0</td>\n",
       "      <td>11201.0</td>\n",
       "      <td>195992.0</td>\n",
       "      <td>987624.0</td>\n",
       "    </tr>\n",
       "    <tr>\n",
       "      <th>3</th>\n",
       "      <td>JAY STREET</td>\n",
       "      <td>0</td>\n",
       "      <td>0.0</td>\n",
       "      <td>0.00</td>\n",
       "      <td>2.0</td>\n",
       "      <td>0.0</td>\n",
       "      <td>1</td>\n",
       "      <td>387060</td>\n",
       "      <td>469.00</td>\n",
       "      <td>15</td>\n",
       "      <td>0.0</td>\n",
       "      <td>0</td>\n",
       "      <td>0</td>\n",
       "      <td>0.0</td>\n",
       "      <td>0</td>\n",
       "      <td>0</td>\n",
       "      <td>0</td>\n",
       "      <td>11201.0</td>\n",
       "      <td>196151.0</td>\n",
       "      <td>988568.0</td>\n",
       "    </tr>\n",
       "    <tr>\n",
       "      <th>4</th>\n",
       "      <td>JAY STREET</td>\n",
       "      <td>0</td>\n",
       "      <td>0.0</td>\n",
       "      <td>0.00</td>\n",
       "      <td>2.0</td>\n",
       "      <td>0.0</td>\n",
       "      <td>5</td>\n",
       "      <td>6384</td>\n",
       "      <td>0.00</td>\n",
       "      <td>0</td>\n",
       "      <td>0.0</td>\n",
       "      <td>0</td>\n",
       "      <td>0</td>\n",
       "      <td>0.0</td>\n",
       "      <td>0</td>\n",
       "      <td>0</td>\n",
       "      <td>0</td>\n",
       "      <td>11201.0</td>\n",
       "      <td>NaN</td>\n",
       "      <td>NaN</td>\n",
       "    </tr>\n",
       "  </tbody>\n",
       "</table>\n",
       "</div>"
      ],
      "text/plain": [
       "         Address  BldgArea  BldgDepth  BuiltFAR  CommFAR  FacilFAR   Lot  \\\n",
       "0    JOHN STREET         0        0.0      0.00      2.0       0.0     1   \n",
       "1  10 JAY STREET    163894      195.0      8.33      2.0       6.5    50   \n",
       "2  1 JOHN STREET    102534        0.0      0.00      2.0       0.0  7501   \n",
       "3     JAY STREET         0        0.0      0.00      2.0       0.0     1   \n",
       "4     JAY STREET         0        0.0      0.00      2.0       0.0     5   \n",
       "\n",
       "   LotArea  LotDepth  NumBldgs  NumFloors  OfficeArea  ResArea  ResidFAR  \\\n",
       "0   151930    337.42         0        0.0           0        0       0.0   \n",
       "1    19682    207.25         1       10.0      147505        0       5.4   \n",
       "2        0      0.00         1       12.0           0    97848       0.0   \n",
       "3   387060    469.00        15        0.0           0        0       0.0   \n",
       "4     6384      0.00         0        0.0           0        0       0.0   \n",
       "\n",
       "   RetailArea  YearBuilt  YearAlter1  ZipCode    YCoord    XCoord  \n",
       "0           0          0           0  11201.0       NaN       NaN  \n",
       "1       16389       1920        1994  11201.0  195989.0  987838.0  \n",
       "2        4686          0           0  11201.0  195992.0  987624.0  \n",
       "3           0          0           0  11201.0  196151.0  988568.0  \n",
       "4           0          0           0  11201.0       NaN       NaN  "
      ]
     },
     "execution_count": 3,
     "metadata": {},
     "output_type": "execute_result"
    }
   ],
   "source": [
    "#Selecting appropriate fields from the pluto data\n",
    "fields = ['Address', 'BldgArea', 'BldgDepth', 'BuiltFAR', 'CommFAR', 'FacilFAR', 'Lot', 'LotArea', \n",
    "          'LotDepth', 'NumBldgs', 'NumFloors', 'OfficeArea', 'ResArea', 'ResidFAR', \n",
    "          'RetailArea', 'YearBuilt', 'YearAlter1', 'ZipCode', 'YCoord', 'XCoord']\n",
    "\n",
    "df_BS = df_BS[fields]\n",
    "df_BX = df_BX[fields]\n",
    "df_MN = df_MN[fields]\n",
    "df_QN = df_QN[fields]\n",
    "df_SI = df_SI[fields]\n",
    "\n",
    "#Creating one dataframe containing data on the buildings\n",
    "df_bldg = pd.concat([df_BS, df_BX, df_MN, df_QN, df_SI])  \n",
    "\n",
    "#Since we compare the buildings with the complaint on the basis of the address, those rows without a valid address are dropped\n",
    "df_bldg.dropna(subset = ['Address'], axis = 0, inplace = True) \n",
    "df_bldg.reset_index(drop=True, inplace=True)  #Resetting indicies\n",
    "df_bldg.head()"
   ]
  },
  {
   "cell_type": "markdown",
   "metadata": {},
   "source": [
    "Taking a data overview to establish approach"
   ]
  },
  {
   "cell_type": "code",
   "execution_count": 4,
   "metadata": {},
   "outputs": [
    {
     "data": {
      "text/plain": [
       "created_date               object\n",
       "unique_key                  int64\n",
       "complaint_type             object\n",
       "incident_zip              float64\n",
       "incident_address           object\n",
       "street_name                object\n",
       "address_type               object\n",
       "city                       object\n",
       "resolution_description     object\n",
       "borough                    object\n",
       "latitude                  float64\n",
       "longitude                 float64\n",
       "closed_date                object\n",
       "location_type              object\n",
       "status                     object\n",
       "dtype: object"
      ]
     },
     "execution_count": 4,
     "metadata": {},
     "output_type": "execute_result"
    }
   ],
   "source": [
    "df_311.dtypes"
   ]
  },
  {
   "cell_type": "code",
   "execution_count": 5,
   "metadata": {},
   "outputs": [
    {
     "data": {
      "text/plain": [
       "Address        object\n",
       "BldgArea        int64\n",
       "BldgDepth     float64\n",
       "BuiltFAR      float64\n",
       "CommFAR       float64\n",
       "FacilFAR      float64\n",
       "Lot             int64\n",
       "LotArea         int64\n",
       "LotDepth      float64\n",
       "NumBldgs        int64\n",
       "NumFloors     float64\n",
       "OfficeArea      int64\n",
       "ResArea         int64\n",
       "ResidFAR      float64\n",
       "RetailArea      int64\n",
       "YearBuilt       int64\n",
       "YearAlter1      int64\n",
       "ZipCode       float64\n",
       "YCoord        float64\n",
       "XCoord        float64\n",
       "dtype: object"
      ]
     },
     "execution_count": 5,
     "metadata": {},
     "output_type": "execute_result"
    }
   ],
   "source": [
    "df_bldg.dtypes"
   ]
  },
  {
   "cell_type": "markdown",
   "metadata": {},
   "source": [
    "# Model to predict the number of complaints"
   ]
  },
  {
   "cell_type": "markdown",
   "metadata": {},
   "source": [
    "The objective is to build a model to predict the number of future complaints of a given complaint type, in specific, the top complaint type identified in Question 1: heating/hot water\n",
    "\n",
    "Hence, we can start by trying to observe trends in 311 data related to the top complaint\n",
    "\n",
    "We can drop status, resolution description and closed date since they are not expected to play into the creation of complaints\n",
    "\n",
    "In order to simplify the analysis, instead of considering many different features relaying the location of the complaint, only the zip code, location type and borough data will be kept, and the others will be dropped\n",
    "\n",
    "Also, to make the data trends with time easier to understand, the created date will be simplified to month and year data"
   ]
  },
  {
   "cell_type": "code",
   "execution_count": 6,
   "metadata": {},
   "outputs": [
    {
     "data": {
      "text/html": [
       "<div>\n",
       "<style scoped>\n",
       "    .dataframe tbody tr th:only-of-type {\n",
       "        vertical-align: middle;\n",
       "    }\n",
       "\n",
       "    .dataframe tbody tr th {\n",
       "        vertical-align: top;\n",
       "    }\n",
       "\n",
       "    .dataframe thead th {\n",
       "        text-align: right;\n",
       "    }\n",
       "</style>\n",
       "<table border=\"1\" class=\"dataframe\">\n",
       "  <thead>\n",
       "    <tr style=\"text-align: right;\">\n",
       "      <th></th>\n",
       "      <th>created_date</th>\n",
       "      <th>unique_key</th>\n",
       "      <th>complaint_type</th>\n",
       "      <th>incident_zip</th>\n",
       "      <th>location_type</th>\n",
       "      <th>borough</th>\n",
       "    </tr>\n",
       "  </thead>\n",
       "  <tbody>\n",
       "    <tr>\n",
       "      <th>0</th>\n",
       "      <td>2012-04</td>\n",
       "      <td>23060277</td>\n",
       "      <td>HEATING</td>\n",
       "      <td>10034.0</td>\n",
       "      <td>RESIDENTIAL BUILDING</td>\n",
       "      <td>MANHATTAN</td>\n",
       "    </tr>\n",
       "    <tr>\n",
       "      <th>1</th>\n",
       "      <td>2012-04</td>\n",
       "      <td>23059409</td>\n",
       "      <td>HEATING</td>\n",
       "      <td>10025.0</td>\n",
       "      <td>RESIDENTIAL BUILDING</td>\n",
       "      <td>MANHATTAN</td>\n",
       "    </tr>\n",
       "    <tr>\n",
       "      <th>2</th>\n",
       "      <td>2012-04</td>\n",
       "      <td>23059006</td>\n",
       "      <td>HEATING</td>\n",
       "      <td>10034.0</td>\n",
       "      <td>RESIDENTIAL BUILDING</td>\n",
       "      <td>MANHATTAN</td>\n",
       "    </tr>\n",
       "    <tr>\n",
       "      <th>3</th>\n",
       "      <td>2012-04</td>\n",
       "      <td>23052646</td>\n",
       "      <td>HEATING</td>\n",
       "      <td>10038.0</td>\n",
       "      <td>RESIDENTIAL BUILDING</td>\n",
       "      <td>MANHATTAN</td>\n",
       "    </tr>\n",
       "    <tr>\n",
       "      <th>4</th>\n",
       "      <td>2012-04</td>\n",
       "      <td>23051271</td>\n",
       "      <td>HEATING</td>\n",
       "      <td>10034.0</td>\n",
       "      <td>RESIDENTIAL BUILDING</td>\n",
       "      <td>MANHATTAN</td>\n",
       "    </tr>\n",
       "  </tbody>\n",
       "</table>\n",
       "</div>"
      ],
      "text/plain": [
       "  created_date  unique_key complaint_type incident_zip         location_type  \\\n",
       "0      2012-04    23060277        HEATING      10034.0  RESIDENTIAL BUILDING   \n",
       "1      2012-04    23059409        HEATING      10025.0  RESIDENTIAL BUILDING   \n",
       "2      2012-04    23059006        HEATING      10034.0  RESIDENTIAL BUILDING   \n",
       "3      2012-04    23052646        HEATING      10038.0  RESIDENTIAL BUILDING   \n",
       "4      2012-04    23051271        HEATING      10034.0  RESIDENTIAL BUILDING   \n",
       "\n",
       "     borough  \n",
       "0  MANHATTAN  \n",
       "1  MANHATTAN  \n",
       "2  MANHATTAN  \n",
       "3  MANHATTAN  \n",
       "4  MANHATTAN  "
      ]
     },
     "execution_count": 6,
     "metadata": {},
     "output_type": "execute_result"
    }
   ],
   "source": [
    "df_311_2 = df_311.loc[:,['created_date', 'unique_key', 'complaint_type', 'incident_zip', 'location_type', 'borough']] #taking dataframe with relevant details\n",
    "\n",
    "#fixing datatype\n",
    "df_311_2['created_date'] = pd.to_datetime(df_311['created_date']).dt.to_period('M')\n",
    "df_311_2['complaint_type'] = df_311['complaint_type'].astype('category')\n",
    "df_311_2['incident_zip'] = df_311['incident_zip'].astype('category')\n",
    "df_311_2['borough'] = df_311['borough'].astype('category')\n",
    "df_311_2['location_type'] = df_311['location_type'].astype('category')\n",
    "\n",
    "#Taking complaints created before 31 Dec 2018\n",
    "df_311_2 = df_311_2[df_311_2['created_date'] < pd.datetime(2019,1,1)]\n",
    "\n",
    "#Taking top complaint as determined in Question 1\n",
    "df_top_comp = pd.concat([df_311_2[df_311_2['complaint_type'] == 'HEATING'], df_311_2[df_311_2['complaint_type'] == 'HEAT/HOT WATER']])\n",
    "\n",
    "#Dropping invalid data\n",
    "df_top_comp = df_top_comp.dropna()\n",
    "df_top_comp.reset_index(drop=True, inplace=True)\n",
    "df_top_comp.head()"
   ]
  },
  {
   "cell_type": "code",
   "execution_count": 7,
   "metadata": {},
   "outputs": [
    {
     "data": {
      "text/plain": [
       "created_date      0\n",
       "unique_key        0\n",
       "complaint_type    0\n",
       "incident_zip      0\n",
       "location_type     0\n",
       "borough           0\n",
       "dtype: int64"
      ]
     },
     "execution_count": 7,
     "metadata": {},
     "output_type": "execute_result"
    }
   ],
   "source": [
    "#Checking data\n",
    "df_top_comp.isna().sum()"
   ]
  },
  {
   "cell_type": "code",
   "execution_count": 8,
   "metadata": {},
   "outputs": [
    {
     "data": {
      "text/plain": [
       "[MANHATTAN, QUEENS, BRONX, BROOKLYN, STATEN ISLAND, Unspecified]\n",
       "Categories (6, object): [MANHATTAN, QUEENS, BRONX, BROOKLYN, STATEN ISLAND, Unspecified]"
      ]
     },
     "execution_count": 8,
     "metadata": {},
     "output_type": "execute_result"
    }
   ],
   "source": [
    "df_top_comp.borough.unique()"
   ]
  },
  {
   "cell_type": "code",
   "execution_count": 9,
   "metadata": {},
   "outputs": [
    {
     "data": {
      "text/plain": [
       "[MANHATTAN, QUEENS, BRONX, BROOKLYN, STATEN ISLAND]\n",
       "Categories (5, object): [MANHATTAN, QUEENS, BRONX, BROOKLYN, STATEN ISLAND]"
      ]
     },
     "execution_count": 9,
     "metadata": {},
     "output_type": "execute_result"
    }
   ],
   "source": [
    "#Cleaning data by dropping rows with the borough unspecified\n",
    "df_top_comp.drop(df_top_comp[df_top_comp['borough'] == 'Unspecified'].index, inplace = True)\n",
    "df_top_comp.reset_index(drop=True, inplace=True)\n",
    "df_top_comp['borough'].unique()"
   ]
  },
  {
   "cell_type": "markdown",
   "metadata": {},
   "source": [
    "Visulaizing data"
   ]
  },
  {
   "cell_type": "code",
   "execution_count": 10,
   "metadata": {},
   "outputs": [
    {
     "data": {
      "text/plain": [
       "created_date\n",
       "2010-01    24\n",
       "2010-02     6\n",
       "2010-03    18\n",
       "2010-04     5\n",
       "2010-05     3\n",
       "Freq: M, Name: unique_key, dtype: int64"
      ]
     },
     "execution_count": 10,
     "metadata": {},
     "output_type": "execute_result"
    }
   ],
   "source": [
    "complaints_over_time = df_top_comp.groupby(['created_date'])['unique_key'].count()\n",
    "complaints_over_time.head()"
   ]
  },
  {
   "cell_type": "code",
   "execution_count": 11,
   "metadata": {},
   "outputs": [
    {
     "data": {
      "text/plain": [
       "Text(0, 0.5, 'Number of Complaints')"
      ]
     },
     "execution_count": 11,
     "metadata": {},
     "output_type": "execute_result"
    },
    {
     "data": {
      "image/png": "[encoded data removed]",
      "text/plain": [
       "<Figure size 432x288 with 1 Axes>"
      ]
     },
     "metadata": {
      "needs_background": "light"
     },
     "output_type": "display_data"
    }
   ],
   "source": [
    "complaints_over_time.plot()\n",
    "plt.xlabel('Time')\n",
    "plt.ylabel('Number of Complaints')"
   ]
  },
  {
   "cell_type": "markdown",
   "metadata": {},
   "source": [
    "There is a clear seasonal trend observable, which makes sense since complaints regarding heating would be more likley in colder seasons"
   ]
  },
  {
   "cell_type": "code",
   "execution_count": 12,
   "metadata": {},
   "outputs": [
    {
     "data": {
      "text/plain": [
       "0    4\n",
       "1    4\n",
       "2    4\n",
       "3    4\n",
       "4    4\n",
       "Name: month, dtype: int64"
      ]
     },
     "execution_count": 12,
     "metadata": {},
     "output_type": "execute_result"
    }
   ],
   "source": [
    "#Modifying Data accordingly and making month and year separate categorical variables\n",
    "df_top_comp['year'] = df_top_comp['created_date'].dt.year\n",
    "df_top_comp['month'] = df_top_comp['created_date'].dt.month\n",
    "df_top_comp['month'].head()"
   ]
  },
  {
   "cell_type": "code",
   "execution_count": 13,
   "metadata": {},
   "outputs": [
    {
     "data": {
      "text/plain": [
       "month\n",
       "1    329411\n",
       "2    200809\n",
       "3    172170\n",
       "4    100427\n",
       "5     43120\n",
       "Name: unique_key, dtype: int64"
      ]
     },
     "execution_count": 13,
     "metadata": {},
     "output_type": "execute_result"
    }
   ],
   "source": [
    "complaints_over_months = df_top_comp.groupby(['month'])['unique_key'].count()\n",
    "complaints_over_months.head()"
   ]
  },
  {
   "cell_type": "code",
   "execution_count": 14,
   "metadata": {},
   "outputs": [
    {
     "data": {
      "text/plain": [
       "Text(0, 0.5, 'Number of Complaints')"
      ]
     },
     "execution_count": 14,
     "metadata": {},
     "output_type": "execute_result"
    },
    {
     "data": {
      "image/png": "[encoded data removed]",
      "text/plain": [
       "<Figure size 432x288 with 1 Axes>"
      ]
     },
     "metadata": {
      "needs_background": "light"
     },
     "output_type": "display_data"
    }
   ],
   "source": [
    "complaints_over_months.plot()\n",
    "plt.xlabel('Month')\n",
    "plt.ylabel('Number of Complaints')"
   ]
  },
  {
   "cell_type": "code",
   "execution_count": 15,
   "metadata": {},
   "outputs": [
    {
     "data": {
      "text/plain": [
       "Text(0, 0.5, 'Number of Complaints')"
      ]
     },
     "execution_count": 15,
     "metadata": {},
     "output_type": "execute_result"
    },
    {
     "data": {
      "image/png": "[encoded data removed]",
      "text/plain": [
       "<Figure size 432x288 with 1 Axes>"
      ]
     },
     "metadata": {
      "needs_background": "light"
     },
     "output_type": "display_data"
    }
   ],
   "source": [
    "df_top_comp.groupby(['year'])['unique_key'].count().plot(kind = 'bar')\n",
    "plt.xlabel('Year')\n",
    "plt.ylabel('Number of Complaints')"
   ]
  },
  {
   "cell_type": "code",
   "execution_count": 16,
   "metadata": {},
   "outputs": [],
   "source": [
    "#Since the data for 2010 and part of 2011 is incomplete, we can drop that year from our model\n",
    "df_top_comp = df_top_comp[df_top_comp['created_date'] > pd.datetime(2011,1,31)]"
   ]
  },
  {
   "cell_type": "code",
   "execution_count": 17,
   "metadata": {},
   "outputs": [
    {
     "data": {
      "text/plain": [
       "location_type\n",
       "Apartment                     0\n",
       "Building-Wide                 0\n",
       "Public Area                   0\n",
       "RESIDENTIAL BUILDING    1609990\n",
       "Residential Building          0\n",
       "Name: unique_key, dtype: int64"
      ]
     },
     "execution_count": 17,
     "metadata": {},
     "output_type": "execute_result"
    }
   ],
   "source": [
    "complaints_over_locType = df_top_comp.groupby(['location_type'])['unique_key'].count()\n",
    "complaints_over_locType.head()"
   ]
  },
  {
   "cell_type": "code",
   "execution_count": 18,
   "metadata": {},
   "outputs": [
    {
     "data": {
      "text/plain": [
       "Text(0.5, 0, 'Number of Complaints')"
      ]
     },
     "execution_count": 18,
     "metadata": {},
     "output_type": "execute_result"
    },
    {
     "data": {
      "image/png": "[encoded data removed]",
      "text/plain": [
       "<Figure size 432x288 with 1 Axes>"
      ]
     },
     "metadata": {
      "needs_background": "light"
     },
     "output_type": "display_data"
    }
   ],
   "source": [
    "complaints_over_locType.plot(kind = 'barh')\n",
    "plt.ylabel('Location Type')\n",
    "plt.xlabel('Number of Complaints')"
   ]
  },
  {
   "cell_type": "markdown",
   "metadata": {},
   "source": [
    "There is a clear co-relation observable, with almost all complaints coming from residential buldings"
   ]
  },
  {
   "cell_type": "code",
   "execution_count": 19,
   "metadata": {},
   "outputs": [
    {
     "data": {
      "text/plain": [
       "incident_zip\n",
       "10001.0     2970\n",
       "10002.0    10952\n",
       "10003.0     8636\n",
       "10004.0      120\n",
       "10005.0      153\n",
       "Name: unique_key, dtype: int64"
      ]
     },
     "execution_count": 19,
     "metadata": {},
     "output_type": "execute_result"
    }
   ],
   "source": [
    "complaints_over_zip = df_top_comp.groupby(['incident_zip'])['unique_key'].count()\n",
    "complaints_over_zip.head()"
   ]
  },
  {
   "cell_type": "code",
   "execution_count": 20,
   "metadata": {},
   "outputs": [
    {
     "data": {
      "text/plain": [
       "Text(0, 0.5, 'Number of Complaints')"
      ]
     },
     "execution_count": 20,
     "metadata": {},
     "output_type": "execute_result"
    },
    {
     "data": {
      "image/png": "[encoded data removed]",
      "text/plain": [
       "<Figure size 432x288 with 1 Axes>"
      ]
     },
     "metadata": {
      "needs_background": "light"
     },
     "output_type": "display_data"
    }
   ],
   "source": [
    "complaints_over_zip.plot()\n",
    "plt.xlabel('Zip Code')\n",
    "plt.ylabel('Number of Complaints')"
   ]
  },
  {
   "cell_type": "markdown",
   "metadata": {},
   "source": [
    "There isn't a consistent trend in ZIP codes since they are arbitarily assigned numbers. To make it more suitable for our model, instead of diving these zip codes in bins and working with those categories, we can directly just use the boroughs which can relay location information as well. "
   ]
  },
  {
   "cell_type": "code",
   "execution_count": 21,
   "metadata": {},
   "outputs": [
    {
     "data": {
      "text/plain": [
       "borough\n",
       "BRONX            520461\n",
       "BROOKLYN         498760\n",
       "MANHATTAN        365735\n",
       "QUEENS           209160\n",
       "STATEN ISLAND     15874\n",
       "Name: unique_key, dtype: int64"
      ]
     },
     "execution_count": 21,
     "metadata": {},
     "output_type": "execute_result"
    }
   ],
   "source": [
    "complaints_over_borough = df_top_comp.groupby(['borough'])['unique_key'].count()\n",
    "complaints_over_borough.head()"
   ]
  },
  {
   "cell_type": "code",
   "execution_count": 22,
   "metadata": {},
   "outputs": [
    {
     "data": {
      "text/plain": [
       "Text(0, 0.5, 'Number of Complaints')"
      ]
     },
     "execution_count": 22,
     "metadata": {},
     "output_type": "execute_result"
    },
    {
     "data": {
      "image/png": "[encoded data removed]",
      "text/plain": [
       "<Figure size 432x288 with 1 Axes>"
      ]
     },
     "metadata": {
      "needs_background": "light"
     },
     "output_type": "display_data"
    }
   ],
   "source": [
    "complaints_over_borough.plot(kind = 'barh')\n",
    "plt.xlabel('borough')\n",
    "plt.ylabel('Number of Complaints')"
   ]
  },
  {
   "cell_type": "markdown",
   "metadata": {},
   "source": [
    "There is a clear relation between the borough and the number of complaints. \n",
    "\n",
    "So, we can drop the zip codes"
   ]
  },
  {
   "cell_type": "code",
   "execution_count": 23,
   "metadata": {},
   "outputs": [],
   "source": [
    "df_top_comp.drop('incident_zip', axis = 1, inplace = True)"
   ]
  },
  {
   "cell_type": "markdown",
   "metadata": {},
   "source": [
    "Building Model"
   ]
  },
  {
   "cell_type": "markdown",
   "metadata": {},
   "source": [
    "We have determined that the categorical values of month, zip code, borough and location type factor into the number of complaints regarding heating reported\n",
    "\n",
    "Considering that we have to predict a continuous value (number of complaints) given categorical values, we use an appropriate regression model\n",
    "\n",
    "We need to first shape the data into features and target variables"
   ]
  },
  {
   "cell_type": "code",
   "execution_count": 24,
   "metadata": {},
   "outputs": [
    {
     "data": {
      "text/plain": [
       "borough  year  month  location_type       \n",
       "BRONX    2011  3      RESIDENTIAL BUILDING    5098\n",
       "               4      RESIDENTIAL BUILDING    3338\n",
       "               5      RESIDENTIAL BUILDING    1217\n",
       "               6      RESIDENTIAL BUILDING     561\n",
       "               7      RESIDENTIAL BUILDING     564\n",
       "Name: unique_key, dtype: int64"
      ]
     },
     "execution_count": 24,
     "metadata": {},
     "output_type": "execute_result"
    }
   ],
   "source": [
    "#Finding the number of complaints given year, month, borough and location type\n",
    "\n",
    "no_of_comp = df_top_comp[['unique_key', 'year','month','borough','location_type']].\\\n",
    "                groupby(['borough','year','month','location_type'])['unique_key'].count()\n",
    "\n",
    "no_of_comp.head()"
   ]
  },
  {
   "cell_type": "code",
   "execution_count": 25,
   "metadata": {},
   "outputs": [
    {
     "data": {
      "text/html": [
       "<div>\n",
       "<style scoped>\n",
       "    .dataframe tbody tr th:only-of-type {\n",
       "        vertical-align: middle;\n",
       "    }\n",
       "\n",
       "    .dataframe tbody tr th {\n",
       "        vertical-align: top;\n",
       "    }\n",
       "\n",
       "    .dataframe thead th {\n",
       "        text-align: right;\n",
       "    }\n",
       "</style>\n",
       "<table border=\"1\" class=\"dataframe\">\n",
       "  <thead>\n",
       "    <tr style=\"text-align: right;\">\n",
       "      <th></th>\n",
       "      <th>borough</th>\n",
       "      <th>year</th>\n",
       "      <th>month</th>\n",
       "      <th>location_type</th>\n",
       "      <th>no_of_complaints</th>\n",
       "    </tr>\n",
       "  </thead>\n",
       "  <tbody>\n",
       "    <tr>\n",
       "      <th>0</th>\n",
       "      <td>BRONX</td>\n",
       "      <td>2011</td>\n",
       "      <td>3</td>\n",
       "      <td>RESIDENTIAL BUILDING</td>\n",
       "      <td>5098</td>\n",
       "    </tr>\n",
       "    <tr>\n",
       "      <th>1</th>\n",
       "      <td>BRONX</td>\n",
       "      <td>2011</td>\n",
       "      <td>4</td>\n",
       "      <td>RESIDENTIAL BUILDING</td>\n",
       "      <td>3338</td>\n",
       "    </tr>\n",
       "    <tr>\n",
       "      <th>2</th>\n",
       "      <td>BRONX</td>\n",
       "      <td>2011</td>\n",
       "      <td>5</td>\n",
       "      <td>RESIDENTIAL BUILDING</td>\n",
       "      <td>1217</td>\n",
       "    </tr>\n",
       "    <tr>\n",
       "      <th>3</th>\n",
       "      <td>BRONX</td>\n",
       "      <td>2011</td>\n",
       "      <td>6</td>\n",
       "      <td>RESIDENTIAL BUILDING</td>\n",
       "      <td>561</td>\n",
       "    </tr>\n",
       "    <tr>\n",
       "      <th>4</th>\n",
       "      <td>BRONX</td>\n",
       "      <td>2011</td>\n",
       "      <td>7</td>\n",
       "      <td>RESIDENTIAL BUILDING</td>\n",
       "      <td>564</td>\n",
       "    </tr>\n",
       "  </tbody>\n",
       "</table>\n",
       "</div>"
      ],
      "text/plain": [
       "  borough  year  month         location_type  no_of_complaints\n",
       "0   BRONX  2011      3  RESIDENTIAL BUILDING              5098\n",
       "1   BRONX  2011      4  RESIDENTIAL BUILDING              3338\n",
       "2   BRONX  2011      5  RESIDENTIAL BUILDING              1217\n",
       "3   BRONX  2011      6  RESIDENTIAL BUILDING               561\n",
       "4   BRONX  2011      7  RESIDENTIAL BUILDING               564"
      ]
     },
     "execution_count": 25,
     "metadata": {},
     "output_type": "execute_result"
    }
   ],
   "source": [
    "df_no_of_comp = no_of_comp.reset_index(level=[0,1,2,3])\n",
    "df_no_of_comp.rename(columns = {'unique_key':'no_of_complaints'}, inplace = True)\n",
    "df_no_of_comp.head()"
   ]
  },
  {
   "cell_type": "code",
   "execution_count": 26,
   "metadata": {},
   "outputs": [
    {
     "data": {
      "text/plain": [
       "array([[2011, 3, 'BRONX', 'RESIDENTIAL BUILDING'],\n",
       "       [2011, 4, 'BRONX', 'RESIDENTIAL BUILDING'],\n",
       "       [2011, 5, 'BRONX', 'RESIDENTIAL BUILDING'],\n",
       "       [2011, 6, 'BRONX', 'RESIDENTIAL BUILDING'],\n",
       "       [2011, 7, 'BRONX', 'RESIDENTIAL BUILDING']], dtype=object)"
      ]
     },
     "execution_count": 26,
     "metadata": {},
     "output_type": "execute_result"
    }
   ],
   "source": [
    "#Making the feature set\n",
    "X = df_no_of_comp[['year','month','borough','location_type']].values \n",
    "X[:5]"
   ]
  },
  {
   "cell_type": "code",
   "execution_count": 27,
   "metadata": {},
   "outputs": [
    {
     "data": {
      "text/plain": [
       "array([5098, 3338, 1217,  561,  564])"
      ]
     },
     "execution_count": 27,
     "metadata": {},
     "output_type": "execute_result"
    }
   ],
   "source": [
    "#Making the target set\n",
    "y = df_no_of_comp['no_of_complaints'].values\n",
    "y[:5]"
   ]
  },
  {
   "cell_type": "code",
   "execution_count": 28,
   "metadata": {},
   "outputs": [
    {
     "data": {
      "text/plain": [
       "array([[2011, 3, 0, 3],\n",
       "       [2011, 4, 0, 3],\n",
       "       [2011, 5, 0, 3],\n",
       "       [2011, 6, 0, 3],\n",
       "       [2011, 7, 0, 3]], dtype=object)"
      ]
     },
     "execution_count": 28,
     "metadata": {},
     "output_type": "execute_result"
    }
   ],
   "source": [
    "#Adjusting for categorical values\n",
    "\n",
    "from sklearn import preprocessing\n",
    "le_borough = preprocessing.LabelEncoder()\n",
    "le_borough.fit(list(df_311['borough'].unique()))\n",
    "X[:,2] = le_borough.transform(X[:,2]) \n",
    "\n",
    "le_loc = preprocessing.LabelEncoder()\n",
    "le_loc.fit(list(df_311['location_type'].unique()))\n",
    "X[:,3] = le_loc.transform(X[:,3]) \n",
    "\n",
    "X[0:5]"
   ]
  },
  {
   "cell_type": "code",
   "execution_count": 29,
   "metadata": {},
   "outputs": [],
   "source": [
    "#Creating training and test data sets\n",
    "from sklearn.model_selection import train_test_split\n",
    "X_trainset, X_testset, y_trainset, y_testset = train_test_split(X, y, test_size=0.3, random_state=3)"
   ]
  },
  {
   "cell_type": "markdown",
   "metadata": {},
   "source": [
    "Using Random Forest Regressor"
   ]
  },
  {
   "cell_type": "code",
   "execution_count": 30,
   "metadata": {},
   "outputs": [
    {
     "name": "stdout",
     "output_type": "stream",
     "text": [
      "Random Forest Regression model's r2 score: 0.91121\n"
     ]
    }
   ],
   "source": [
    "from sklearn.ensemble import RandomForestRegressor\n",
    "from sklearn.metrics import r2_score\n",
    "from sklearn.metrics import mean_squared_error\n",
    "\n",
    "model_rf = RandomForestRegressor(n_estimators=100, random_state=100)\n",
    "model_rf.fit(X_trainset, y_trainset) \n",
    "yhat_rf= model_rf.predict(X_testset)\n",
    "print(\"Random Forest Regression model's r2 score: %.5f\" %r2_score(y_testset, yhat_rf))"
   ]
  },
  {
   "cell_type": "markdown",
   "metadata": {},
   "source": [
    "Since the r2 score is close to one, the randowm forest regressor model is helpful to predict the number of complaints given year, month, bronx and location type"
   ]
  },
  {
   "cell_type": "code",
   "execution_count": 31,
   "metadata": {},
   "outputs": [
    {
     "name": "stdout",
     "output_type": "stream",
     "text": [
      "According to the Random Forest Regression model, the number of compliants expected from Bronx in April 2020 is around 4826.790000\n"
     ]
    }
   ],
   "source": [
    "#Using the model to predict the expected number of complaints in Bronx in April 2020\n",
    "print('According to the Random Forest Regression model, the number of compliants expected from Bronx in April 2020 is around %f' %model_rf.predict([[2020,4,0,3]]))"
   ]
  },
  {
   "cell_type": "markdown",
   "metadata": {},
   "source": [
    "Making a even simpler model to predict total number of complaints for a year given a borough\n",
    "\n",
    "Since we saw a linear relation between borough and number of complaints, we can use linear regression"
   ]
  },
  {
   "cell_type": "code",
   "execution_count": 32,
   "metadata": {},
   "outputs": [
    {
     "data": {
      "text/html": [
       "<div>\n",
       "<style scoped>\n",
       "    .dataframe tbody tr th:only-of-type {\n",
       "        vertical-align: middle;\n",
       "    }\n",
       "\n",
       "    .dataframe tbody tr th {\n",
       "        vertical-align: top;\n",
       "    }\n",
       "\n",
       "    .dataframe thead th {\n",
       "        text-align: right;\n",
       "    }\n",
       "</style>\n",
       "<table border=\"1\" class=\"dataframe\">\n",
       "  <thead>\n",
       "    <tr style=\"text-align: right;\">\n",
       "      <th></th>\n",
       "      <th>borough</th>\n",
       "      <th>year</th>\n",
       "      <th>no_of_complaints</th>\n",
       "    </tr>\n",
       "  </thead>\n",
       "  <tbody>\n",
       "    <tr>\n",
       "      <th>0</th>\n",
       "      <td>BRONX</td>\n",
       "      <td>2011</td>\n",
       "      <td>35737</td>\n",
       "    </tr>\n",
       "    <tr>\n",
       "      <th>1</th>\n",
       "      <td>BRONX</td>\n",
       "      <td>2012</td>\n",
       "      <td>56617</td>\n",
       "    </tr>\n",
       "    <tr>\n",
       "      <th>2</th>\n",
       "      <td>BRONX</td>\n",
       "      <td>2013</td>\n",
       "      <td>63873</td>\n",
       "    </tr>\n",
       "    <tr>\n",
       "      <th>3</th>\n",
       "      <td>BRONX</td>\n",
       "      <td>2014</td>\n",
       "      <td>79844</td>\n",
       "    </tr>\n",
       "    <tr>\n",
       "      <th>4</th>\n",
       "      <td>BRONX</td>\n",
       "      <td>2015</td>\n",
       "      <td>71864</td>\n",
       "    </tr>\n",
       "  </tbody>\n",
       "</table>\n",
       "</div>"
      ],
      "text/plain": [
       "  borough  year  no_of_complaints\n",
       "0   BRONX  2011             35737\n",
       "1   BRONX  2012             56617\n",
       "2   BRONX  2013             63873\n",
       "3   BRONX  2014             79844\n",
       "4   BRONX  2015             71864"
      ]
     },
     "execution_count": 32,
     "metadata": {},
     "output_type": "execute_result"
    }
   ],
   "source": [
    "#Finding the number of complaints given year, month, borough and location type\n",
    "\n",
    "no_of_comp_borough = df_top_comp[['unique_key', 'year','borough']].\\\n",
    "                    groupby(['borough','year'])['unique_key'].count()\n",
    "\n",
    "df_no_of_comp_borough = no_of_comp_borough.reset_index(level=[0,1])\n",
    "df_no_of_comp_borough.rename(columns = {'unique_key':'no_of_complaints'}, inplace = True)\n",
    "\n",
    "df_no_of_comp_borough.head()"
   ]
  },
  {
   "cell_type": "code",
   "execution_count": 33,
   "metadata": {},
   "outputs": [
    {
     "data": {
      "text/plain": [
       "array([[2011, 'BRONX'],\n",
       "       [2012, 'BRONX'],\n",
       "       [2013, 'BRONX'],\n",
       "       [2014, 'BRONX'],\n",
       "       [2015, 'BRONX']], dtype=object)"
      ]
     },
     "execution_count": 33,
     "metadata": {},
     "output_type": "execute_result"
    }
   ],
   "source": [
    "#Making the feature set\n",
    "X2 = df_no_of_comp_borough[['year','borough']].values\n",
    "X2[:5]"
   ]
  },
  {
   "cell_type": "code",
   "execution_count": 34,
   "metadata": {},
   "outputs": [
    {
     "data": {
      "text/plain": [
       "array([[2011, 0],\n",
       "       [2012, 0],\n",
       "       [2013, 0],\n",
       "       [2014, 0],\n",
       "       [2015, 0]], dtype=object)"
      ]
     },
     "execution_count": 34,
     "metadata": {},
     "output_type": "execute_result"
    }
   ],
   "source": [
    "#Adjusting categorical values\n",
    "le_borough = preprocessing.LabelEncoder()\n",
    "le_borough.fit(list(df_311['borough'].unique()))\n",
    "X2[:,1] = le_borough.transform(X2[:,1]) \n",
    "\n",
    "X2[:5]"
   ]
  },
  {
   "cell_type": "code",
   "execution_count": 35,
   "metadata": {},
   "outputs": [
    {
     "data": {
      "text/plain": [
       "array([[35737],\n",
       "       [56617],\n",
       "       [63873],\n",
       "       [79844],\n",
       "       [71864]])"
      ]
     },
     "execution_count": 35,
     "metadata": {},
     "output_type": "execute_result"
    }
   ],
   "source": [
    "#Making the training set\n",
    "y2 = df_no_of_comp_borough[['no_of_complaints']].values\n",
    "y2[:5]"
   ]
  },
  {
   "cell_type": "code",
   "execution_count": 36,
   "metadata": {},
   "outputs": [],
   "source": [
    "X2_train, X2_test, y2_train, y2_test = train_test_split(X2, y2, test_size=0.3, random_state=3)"
   ]
  },
  {
   "cell_type": "code",
   "execution_count": 37,
   "metadata": {},
   "outputs": [
    {
     "name": "stdout",
     "output_type": "stream",
     "text": [
      "Linear Regression model's r2 score: 0.86547\n"
     ]
    }
   ],
   "source": [
    "from sklearn import linear_model\n",
    "model_reg = linear_model.LinearRegression()\n",
    "model_reg.fit(X2_train, y2_train)\n",
    "y2hat = model_reg.predict(X2_test)\n",
    "print(\"Linear Regression model's r2 score: %.5f\" %r2_score(y2_test, y2hat))"
   ]
  },
  {
   "cell_type": "code",
   "execution_count": 38,
   "metadata": {},
   "outputs": [
    {
     "name": "stdout",
     "output_type": "stream",
     "text": [
      "According to the Linear model, the number of compliants expected from Bronx over 2020 is around 84761.095447\n"
     ]
    }
   ],
   "source": [
    "#Using the model to predict the expected number of complaints in Bronx 2020\n",
    "print('According to the Linear model, the number of compliants expected from Bronx over 2020 is around %f' %model_reg.predict([[2020,0]]))"
   ]
  },
  {
   "cell_type": "markdown",
   "metadata": {},
   "source": [
    "Comparing the r2 scores, the Random Forest regression model gives us better results. \n",
    "\n",
    "Hence, we will use that model to predict the total number of complaints in all of 2020 from all of new york"
   ]
  },
  {
   "cell_type": "code",
   "execution_count": 47,
   "metadata": {},
   "outputs": [],
   "source": [
    "NYC_2020 = [[0,0,0,0]]\n",
    "for borough in range(0,4,1):\n",
    "    for month in range(1,13,1):\n",
    "        NYC_2020 = np.append(NYC_2020, [[2020, borough, month, 3]],axis = 0)"
   ]
  },
  {
   "cell_type": "code",
   "execution_count": 48,
   "metadata": {},
   "outputs": [
    {
     "name": "stdout",
     "output_type": "stream",
     "text": [
      "According to the Linear model, the number of compliants expected from Bronx over 2020 is around 118368.080000\n"
     ]
    }
   ],
   "source": [
    "prediction = model_rf.predict(NYC_2020).sum()\n",
    "print('According to the Linear model, the number of compliants expected from Bronx over 2020 is around %f' %prediction)"
   ]
  },
  {
   "cell_type": "markdown",
   "metadata": {},
   "source": [
    "Question: \n",
    "\n",
    "    Can a predictive model be built for future prediction of the possibility of complaints of the specific type that you identified in response to Question 1?\n",
    "    Using the best model, you need to predict the number of future complaints (of the Complaint Type that you decided to focus on in Question 1).\n",
    "    \n",
    "\n",
    "Answer:\n",
    "    \n",
    "    Looking at the different features, 2 regression models to predict the number of complaints regarding heating (as identified in question 1) were developed. The Random Forest Regression Model used was better. Using this model, we can predict the number of complaints expected given a year, month, location type and borough. Totaling over these features, the number of complaints regarding heating from new york is predicted to be around 118K\n",
    "    \n",
    "Additional Notes:\n",
    "\n",
    "    It makes sense that the Random Forest Regression model performs better since it takes into account more features. \n",
    "    We have also observed that there is correlation between months and seasons and the number of complaints regarding heating, which is understandable"
   ]
  }
 ],
 "metadata": {
  "kernelspec": {
   "display_name": "Python 3",
   "language": "python",
   "name": "python3"
  },
  "language_info": {
   "codemirror_mode": {
    "name": "ipython",
    "version": 3
   },
   "file_extension": ".py",
   "mimetype": "text/x-python",
   "name": "python",
   "nbconvert_exporter": "python",
   "pygments_lexer": "ipython3",
   "version": "3.7.4"
  }
 },
 "nbformat": 4,
 "nbformat_minor": 4
}
